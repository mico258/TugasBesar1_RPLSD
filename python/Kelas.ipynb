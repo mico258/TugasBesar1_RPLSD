{
 "cells": [
  {
   "cell_type": "code",
   "execution_count": 251,
   "metadata": {},
   "outputs": [],
   "source": [
    "class MataKuliah:\n",
    "    def __init__(self, namaMataKuliah, requirement, capacity, course_time):\n",
    "        self.namaMataKuliah = namaMataKuliah\n",
    "        self.requirement = requirement\n",
    "        self.capacity = capacity\n",
    "        self.course_time = course_time\n",
    "        w, h = 11, 5;\n",
    "        self.schedule = [[None for x in range(w)] for y in range(h)] \n",
    "    \n",
    "    def showSchedule(self):\n",
    "        for i in range (0, 5):\n",
    "            print('[')\n",
    "            for j in range (0, 10):\n",
    "                if self.schedule[i][j] !=None :\n",
    "                    print(self.schedule[i][j].namaRuangan)\n",
    "                else :\n",
    "                    print(None)\n",
    "                \n",
    "            print(']\\n')\n",
    "        "
   ]
  },
  {
   "cell_type": "code",
   "execution_count": 252,
   "metadata": {},
   "outputs": [],
   "source": [
    "class Ruangan:\n",
    "    def __init__(self, namaRuangan, requirement, capacity): \n",
    "        self.namaRuangan = namaRuangan\n",
    "        self.requirement = requirement\n",
    "        self.capacity = capacity\n",
    "        w, h = 11, 5;\n",
    "        self.schedule = [[None for x in range(w)] for y in range(h)] \n",
    "        \n",
    "    def showSchedule(self):\n",
    "        for i in range (0, 5):\n",
    "            print('[')\n",
    "            for j in range (0, 10):\n",
    "                if self.schedule[i][j] !=None :\n",
    "                    print(self.schedule[i][j].namaMataKuliah)\n",
    "                else :\n",
    "                    print(None)\n",
    "                \n",
    "            print(']\\n')\n",
    "        \n",
    "    "
   ]
  },
  {
   "cell_type": "code",
   "execution_count": null,
   "metadata": {},
   "outputs": [],
   "source": []
  },
  {
   "cell_type": "code",
   "execution_count": 265,
   "metadata": {},
   "outputs": [],
   "source": [
    "Kimia1 = MataKuliah('kimia', False, 30, [[1,1,3],[2,1,3]]) "
   ]
  },
  {
   "cell_type": "code",
   "execution_count": 266,
   "metadata": {},
   "outputs": [],
   "source": [
    "Kalkulus = MataKuliah('kalkulus', True, 21, [[1,3,4]])"
   ]
  },
  {
   "cell_type": "code",
   "execution_count": 267,
   "metadata": {},
   "outputs": [],
   "source": [
    "TVSTA = Ruangan(\"TVST\", True, 30)"
   ]
  },
  {
   "cell_type": "code",
   "execution_count": 268,
   "metadata": {},
   "outputs": [
    {
     "data": {
      "text/plain": [
       "[[None, None, None, None, None, None, None, None, None, None, None],\n",
       " [None, None, None, None, None, None, None, None, None, None, None],\n",
       " [None, None, None, None, None, None, None, None, None, None, None],\n",
       " [None, None, None, None, None, None, None, None, None, None, None],\n",
       " [None, None, None, None, None, None, None, None, None, None, None]]"
      ]
     },
     "execution_count": 268,
     "metadata": {},
     "output_type": "execute_result"
    }
   ],
   "source": [
    "Kimia1.schedule"
   ]
  },
  {
   "cell_type": "code",
   "execution_count": 269,
   "metadata": {},
   "outputs": [],
   "source": [
    "Semua_Kelas = []\n",
    "Semua_Kelas.append(Kimia1)\n",
    "Semua_Kelas.append(Kalkulus)"
   ]
  },
  {
   "cell_type": "code",
   "execution_count": 270,
   "metadata": {},
   "outputs": [],
   "source": [
    "Semua_Ruangan = []\n",
    "Semua_Ruangan.append(TVSTA)"
   ]
  },
  {
   "cell_type": "code",
   "execution_count": 271,
   "metadata": {},
   "outputs": [],
   "source": [
    "def Assign(Clasess, Rooms):\n",
    "    ## Proses Tiap Kelas di dalam Classe\n",
    "    for kelas in Clasess :\n",
    "        ##proses semua jadwal inputan \n",
    "        for time in kelas.course_time:\n",
    "            for ruangan in Rooms:\n",
    "                if (not kelas.requirement):\n",
    "                    if(kelas.capacity <= ruangan.capacity):\n",
    "                        dummy = []\n",
    "                        for i in range(time[1]-1, time[2]):\n",
    "                            dummy.append(None)\n",
    "                        if(dummy == ruangan.schedule[time[0]-1][time[1]-1:time[2]]):\n",
    "                            for j in range(time[1]-1, time[2]):\n",
    "                                ruangan.schedule[time[0]-1][j] = kelas\n",
    "                                kelas.schedule[time[0]-1][j] = ruangan\n",
    "                            \n",
    "                        else :\n",
    "                            print(\"Tidak dapat assign kelas \"+ kelas.namaMataKuliah)\n",
    "                        \n",
    "                        \n",
    "                elif (ruangan.requirement):\n",
    "                    if(kelas.capacity <= ruangan.capacity):\n",
    "                        dummy = []\n",
    "                        for i in range(time[1]-1, time[2]):\n",
    "                            dummy.append(None)\n",
    "                        if(dummy == ruangan.schedule[time[0]-1][time[1]-1:time[2]]):\n",
    "                            for j in range(time[1]-1, time[2]):\n",
    "                                ruangan.schedule[time[0]-1][j] = kelas\n",
    "                                kelas.schedule[time[0]-1][j] = ruangan\n",
    "                        else :\n",
    "                            print(\"Tidak dapat assign kelas \"+ kelas.namaMataKuliah)\n",
    "                        \n",
    "                break\n",
    "                "
   ]
  },
  {
   "cell_type": "code",
   "execution_count": 272,
   "metadata": {},
   "outputs": [
    {
     "name": "stdout",
     "output_type": "stream",
     "text": [
      "Tidak dapat assign kelas kalkulus\n"
     ]
    }
   ],
   "source": [
    "Assign(Semua_Kelas, Semua_Ruangan)"
   ]
  },
  {
   "cell_type": "code",
   "execution_count": 273,
   "metadata": {},
   "outputs": [
    {
     "name": "stdout",
     "output_type": "stream",
     "text": [
      "[\n",
      "kimia\n",
      "kimia\n",
      "kimia\n",
      "None\n",
      "None\n",
      "None\n",
      "None\n",
      "None\n",
      "None\n",
      "None\n",
      "]\n",
      "\n",
      "[\n",
      "kimia\n",
      "kimia\n",
      "kimia\n",
      "None\n",
      "None\n",
      "None\n",
      "None\n",
      "None\n",
      "None\n",
      "None\n",
      "]\n",
      "\n",
      "[\n",
      "None\n",
      "None\n",
      "None\n",
      "None\n",
      "None\n",
      "None\n",
      "None\n",
      "None\n",
      "None\n",
      "None\n",
      "]\n",
      "\n",
      "[\n",
      "None\n",
      "None\n",
      "None\n",
      "None\n",
      "None\n",
      "None\n",
      "None\n",
      "None\n",
      "None\n",
      "None\n",
      "]\n",
      "\n",
      "[\n",
      "None\n",
      "None\n",
      "None\n",
      "None\n",
      "None\n",
      "None\n",
      "None\n",
      "None\n",
      "None\n",
      "None\n",
      "]\n",
      "\n"
     ]
    }
   ],
   "source": [
    "TVSTA.showSchedule()"
   ]
  },
  {
   "cell_type": "code",
   "execution_count": 274,
   "metadata": {},
   "outputs": [
    {
     "name": "stdout",
     "output_type": "stream",
     "text": [
      "[[1, 1, 3], [2, 1, 3]]\n",
      "[[1, 3, 4]]\n"
     ]
    }
   ],
   "source": [
    "for kelas in Semua_Kelas:\n",
    "    print (kelas.course_time)"
   ]
  },
  {
   "cell_type": "code",
   "execution_count": null,
   "metadata": {},
   "outputs": [],
   "source": []
  },
  {
   "cell_type": "code",
   "execution_count": null,
   "metadata": {},
   "outputs": [],
   "source": []
  },
  {
   "cell_type": "code",
   "execution_count": null,
   "metadata": {},
   "outputs": [],
   "source": []
  }
 ],
 "metadata": {
  "kernelspec": {
   "display_name": "Python 3",
   "language": "python",
   "name": "python3"
  },
  "language_info": {
   "codemirror_mode": {
    "name": "ipython",
    "version": 3
   },
   "file_extension": ".py",
   "mimetype": "text/x-python",
   "name": "python",
   "nbconvert_exporter": "python",
   "pygments_lexer": "ipython3",
   "version": "3.7.1"
  }
 },
 "nbformat": 4,
 "nbformat_minor": 2
}
